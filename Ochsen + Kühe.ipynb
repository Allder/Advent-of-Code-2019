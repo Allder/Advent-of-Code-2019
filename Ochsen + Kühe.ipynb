{
 "nbformat": 4,
 "nbformat_minor": 2,
 "metadata": {
  "language_info": {
   "name": "python",
   "codemirror_mode": {
    "name": "ipython",
    "version": 3
   },
   "version": "3.7.4"
  },
  "orig_nbformat": 2,
  "file_extension": ".py",
  "mimetype": "text/x-python",
  "name": "python",
  "npconvert_exporter": "python",
  "pygments_lexer": "ipython3",
  "version": 3
 },
 "cells": [
  {
   "cell_type": "markdown",
   "execution_count": 2,
   "metadata": {},
   "outputs": [
    {
     "ename": "SyntaxError",
     "evalue": "invalid syntax (<ipython-input-2-548078376adf>, line 1)",
     "output_type": "error",
     "traceback": [
      "\u001b[1;36m  File \u001b[1;32m\"<ipython-input-2-548078376adf>\"\u001b[1;36m, line \u001b[1;32m1\u001b[0m\n\u001b[1;33m    Ein Bauer hat 1.770 Taler zur Verfügung und möchte Pferde und Ochsen kaufen.\u001b[0m\n\u001b[1;37m            ^\u001b[0m\n\u001b[1;31mSyntaxError\u001b[0m\u001b[1;31m:\u001b[0m invalid syntax\n"
     ]
    }
   ],
   "source": [
    "# Das Pferde und Ochsen Problem\n",
    "\n",
    "Ein Bauer hat 1.770 Taler zur Verfügung und möchte Pferde und Ochsen kaufen.\n",
    "\n",
    "Jedes Pferd kostet 31 Taler, jeder Ochse 21 Taler\n",
    "\n",
    "Wieviele Pferde und Ochsen kann der Bauer kaufen, wenn der Gesamtpreis genau 1.770 Taler hoch ist?\n"
   ]
  },
  {
   "cell_type": "markdown",
   "execution_count": 72,
   "metadata": {},
   "outputs": [],
   "source": [
    "#### 1. Idee: Wir probieren einfach alle Varianten aus"
   ]
  },
  {
   "cell_type": "code",
   "execution_count": 151,
   "metadata": {},
   "outputs": [],
   "source": [
    "pferd = 31\n",
    "ochse = 21\n",
    "zielsumme = 1770"
   ]
  },
  {
   "cell_type": "code",
   "execution_count": 152,
   "metadata": {},
   "outputs": [
    {
     "name": "stdout",
     "output_type": "stream",
     "text": "Lösung Nr. 789: 9 Pferde + 71 Ochsen kosten 279 + 1491 = 1770\nLösung Nr. 1970: 30 Pferde + 40 Ochsen kosten 930 + 840 = 1770\nLösung Nr. 2500: 51 Pferde + 9 Ochsen kosten 1581 + 189 = 1770\nUntersuchte Varianten = 2533\n"
    }
   ],
   "source": [
    "counter = 0\n",
    "for p in range(zielsumme//pferd+1): #p = jede mögliche Anzahl von Pferden (0,1,2,3...58)\n",
    "  for o in range(zielsumme//ochse+1): #o = jede mögliche Anzahl von Ochsen (0,1,2,3...85)\n",
    "    counter += 1\n",
    "    summe = p*pferd + o *ochse\n",
    "    if summe > zielsumme: break\n",
    "    if summe == zielsumme: #wenn p * kaufpreis Pferd + o * kaufpreis Ochse = 1770 ist\n",
    "      print(f'Lösung Nr. {counter}: {p} Pferde + {o} Ochsen kosten {p*pferd} + {o*ochse} = {p*pferd+o*ochse}')\n",
    "      break\n",
    "print(f'Untersuchte Varianten = {counter}')\n"
   ]
  },
  {
   "cell_type": "markdown",
   "execution_count": null,
   "metadata": {},
   "outputs": [],
   "source": [
    "#### 2. Idee: Die Anzahl Pferde und Ochsen muss in der letzten Stelle eine '0' sein, weil der Gesamtpreis als letzte Stelle eine '0' hat und jeder Einzelpreis als letzte Stelle eine 1. Damit sind nur noch 10x1, 20x1 usw. möglich um in dem Gesamtpreis in der letzten Stelle eine '0' zu erhalten. Damit muss die Anzahl von Pferden und Ochsen immer durch 10 teilbar sein. Z.B. wenn ich 9 Pferde annehme, kann die Anzahl der Ochsen nur 1,11,21,31...81 sein. Realistisch wäre dort nur 71 oder 81."
   ]
  },
  {
   "cell_type": "code",
   "execution_count": 153,
   "metadata": {},
   "outputs": [
    {
     "name": "stdout",
     "output_type": "stream",
     "text": "Lösung Nr. 83: 9 Pferde + 71 Ochsen kosten 279 + 1491 = 1770\nLösung Nr. 217: 30 Pferde + 40 Ochsen kosten 930 + 840 = 1770\nLösung Nr. 286: 51 Pferde + 9 Ochsen kosten 1581 + 189 = 1770\nUntersuchte Varianten = 292\n"
    }
   ],
   "source": [
    "counter = 0\n",
    "for p in range(zielsumme//pferd+1): #p = jede mögliche Anzahl von Pferden (0,1,2,3...58)\n",
    "  letzte_ziffer = p % 10 #rest aus p / 10 = letzte ziffer aus p (z.B. p = 34, letzte Ziffer = 4)\n",
    "  for o in range(10-letzte_ziffer,zielsumme//ochse+1,10): #o = startet mit 10 - letzte Ziffer und geht in 10er Schritten weiter. Wenn also letzte Ziffer = 4, dann ist o 6,16,26,36 usw.\n",
    "    counter += 1\n",
    "    summe = p*pferd + o*ochse\n",
    "    if summe > zielsumme: break\n",
    "    if summe == zielsumme:\n",
    "      print(f'Lösung Nr. {counter}: {p} Pferde + {o} Ochsen kosten {p*pferd} + {o*ochse} = {p*pferd+o*ochse}')\n",
    "      break\n",
    "print(f'Untersuchte Varianten = {counter}')\n"
   ]
  },
  {
   "cell_type": "markdown",
   "execution_count": null,
   "metadata": {},
   "outputs": [],
   "source": [
    "#### 3. Idee: Wir teilen die Zielsumme durch 10 und suchen nur noch die Anzahl Pferde/Ochsen, die in Summe 177 Taler kosten."
   ]
  },
  {
   "cell_type": "code",
   "execution_count": 154,
   "metadata": {},
   "outputs": [
    {
     "name": "stdout",
     "output_type": "stream",
     "text": "Lösung Nr. 29: 3 Pferde + 4 Ochsen kosten 93 + 84 = 177\nUntersuchte Varianten = 36\n[(0, 0), (0, 1), (0, 2), (0, 3), (0, 4), (0, 5), (0, 6), (0, 7), (0, 8), (1, 0), (1, 1), (1, 2), (1, 3), (1, 4), (1, 5), (1, 6), (1, 7), (2, 0), (2, 1), (2, 2), (2, 3), (2, 4), (2, 5), (2, 6), (3, 0), (3, 1), (3, 2), (3, 3), (3, 4), (4, 0), (4, 1), (4, 2), (4, 3), (5, 0), (5, 1), (5, 2)]\n"
    }
   ],
   "source": [
    "zielsumme = 177\n",
    "liste_varianten=[]\n",
    "counter = 0\n",
    "for p in range(zielsumme//pferd+1):\n",
    "  for o in range(zielsumme//ochse+1):\n",
    "    counter += 1\n",
    "    summe = p*pferd + o *ochse\n",
    "    liste_varianten.append((p,o))\n",
    "    if summe > zielsumme: break\n",
    "    if summe == zielsumme:\n",
    "      print(f'Lösung Nr. {counter}: {p} Pferde + {o} Ochsen kosten {p*pferd} + {o*ochse} = {p*pferd+o*ochse}')\n",
    "      break\n",
    "print(f'Untersuchte Varianten = {counter}')\n",
    "print(liste_varianten)\n"
   ]
  },
  {
   "cell_type": "markdown",
   "execution_count": null,
   "metadata": {},
   "outputs": [],
   "source": [
    "#### 4. Idee: Wie 3 aber jetzt werden nur noch Anzahlen untersucht, die in Summe 7 ergeben, da die letzte Stelle des Gesamtpreises eine '7' ist. Also wenn 1 Pferd, dann 6 Ochsen. Dadurch reduziert sich die Anzahl der Varianten auf (0,7), (1,6), (2,5) usw.\n"
   ]
  },
  {
   "cell_type": "code",
   "execution_count": 155,
   "metadata": {},
   "outputs": [
    {
     "name": "stdout",
     "output_type": "stream",
     "text": "Lösung Nr. 4: 3 Pferde + 4 Ochsen kosten 93 + 84 = 177\nUntersuchte Varianten = 4 -> [(0, 7), (1, 6), (2, 5), (3, 4)]\n"
    }
   ],
   "source": [
    "zielsumme = 177\n",
    "liste_varianten = []\n",
    "counter = 0\n",
    "for p in range(8):\n",
    "  o = 7-p\n",
    "  counter += 1\n",
    "  summe = p*pferd + o *ochse\n",
    "  liste_varianten.append((p,o)) \n",
    "  if summe > zielsumme: break\n",
    "  if zielsumme == summe:\n",
    "    print(f'Lösung Nr. {counter}: {p} Pferde + {o} Ochsen kosten {p*pferd} + {o*ochse} = {p*pferd+o*ochse}')\n",
    "    break\n",
    "print(f'Untersuchte Varianten = {counter} -> {liste_varianten}')"
   ]
  },
  {
   "cell_type": "markdown",
   "execution_count": null,
   "metadata": {},
   "outputs": [],
   "source": []
  }
 ]
}